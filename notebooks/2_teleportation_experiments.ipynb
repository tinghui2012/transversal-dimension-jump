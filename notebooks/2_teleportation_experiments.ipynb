{
 "cells": [
  {
   "cell_type": "markdown",
   "id": "e65f1a74",
   "metadata": {},
   "source": [
    "# Teleportation Experiments\n",
    "\n",
    "This notebook contains the 2D to 3D code teleportation experiments described in https://arxiv.org/abs/2510.07269.\n",
    "The codes used are the bivariate bicycle/tricycle codes.\n",
    "\n",
    "Env: Python 3.7"
   ]
  },
  {
   "cell_type": "markdown",
   "id": "9c23dfa5",
   "metadata": {},
   "source": [
    "### imports"
   ]
  },
  {
   "cell_type": "code",
   "execution_count": 1,
   "id": "343ff2ab",
   "metadata": {},
   "outputs": [],
   "source": [
    "import numpy as np\n",
    "import stim\n",
    "import time\n",
    "import sys\n",
    "import itertools\n",
    "import copy\n",
    "from bposd.css import css_code\n",
    "\n",
    "sys.path.append('../src/')\n",
    "from TeleportationCircuit import build_logical_teleportation_circuit_2D_to_3D\n",
    "from Decoders_SpaceTime import BPOSD_Decoder\n",
    "from DistanceEst import DistanceEst_BPOSD\n",
    "from beliefmatching import detector_error_model_to_check_matrices\n",
    "from utilities import parmap\n",
    "import multiprocessing as mp"
   ]
  },
  {
   "cell_type": "code",
   "execution_count": 2,
   "id": "55812277",
   "metadata": {},
   "outputs": [],
   "source": [
    "import joblib\n",
    "hx_dict_2d = joblib.load('../data/hx_dict_2d.pkl')\n",
    "hz_dict_2d = joblib.load('../data/hz_dict_2d.pkl')\n",
    "hx_dict_3d = joblib.load('../data/hx_dict_3d.pkl')\n",
    "hz_dict_3d = joblib.load('../data/hz_dict_3d.pkl')\n",
    "gamma_0_dict = joblib.load('../data/gamma_0_dict.pkl')\n",
    "gamma_1_dict = joblib.load('../data/gamma_1_dict.pkl')\n",
    "gamma_2_dict = joblib.load('../data/gamma_2_dict.pkl')\n",
    "gamma_3_dict = joblib.load('../data/gamma_3_dict.pkl')"
   ]
  },
  {
   "cell_type": "code",
   "execution_count": 3,
   "id": "aff23de8",
   "metadata": {},
   "outputs": [],
   "source": [
    "def create_and_simulate_2D_to_3D_teleportation_circuit(code_2D, code_3D, gamma_2, gamma_1, p, circuit_error_params, decoder_params, num_shots, psi, num_trials_decoder=1000, merged_schedule_2D=None, merged_schedule_3D=None):\n",
    "    # 3. generate the teleportation circuit\n",
    "    circuit = build_logical_teleportation_circuit_2D_to_3D(\n",
    "        code_2D, code_3D, circuit_error_params, p, gamma_2, gamma_1, logical_psi = psi, merged_scheduling_2D=merged_schedule_2D, merged_scheduling_3D=merged_schedule_3D)\n",
    "\n",
    "    # 4. set up sampler + DEM + get detector+logical values\n",
    "    sampler = circuit.compile_detector_sampler()\n",
    "    dem = circuit.detector_error_model(flatten_loops=True)\n",
    "    \n",
    "    num_shots_per_batch = 10_000\n",
    "    # detector_vals, logical_vals = sampler.sample(shots=num_samples, separate_observables=True)\n",
    "    det_chunks, log_chunks = [], []\n",
    "    num_batches, leftover = num_shots//num_shots_per_batch, num_shots%num_shots_per_batch\n",
    "    print(f\"num shots {num_shots} | num batches {num_batches} | leftover {leftover}\")\n",
    "    for batch_i in range(num_batches+1):\n",
    "        if batch_i%10 == 0:\n",
    "            print(f\"processing batch {batch_i}\")\n",
    "        if batch_i == num_batches:\n",
    "            batch_detector_vals, batch_logical_vals = sampler.sample(leftover, separate_observables=True)\n",
    "        else:\n",
    "            batch_detector_vals, batch_logical_vals = sampler.sample(num_shots_per_batch, separate_observables=True)\n",
    "        det_chunks.append(batch_detector_vals)\n",
    "        log_chunks.append(batch_logical_vals)\n",
    "    detector_vals = np.concatenate(det_chunks, axis=0)\n",
    "    logical_vals  = np.concatenate(log_chunks,  axis=0)\n",
    "    if len(detector_vals) != num_shots or len(logical_vals) != num_shots:\n",
    "        print(\"incorrect number of shots\")\n",
    "        print(f\"det len {len(detector_vals)} | log len {len(logical_vals)}\")\n",
    "\n",
    "    # 5. check circuit distance\n",
    "    DemMatrices = detector_error_model_to_check_matrices(dem, allow_undecomposed_hyperedges=True)\n",
    "\n",
    "    H = DemMatrices.check_matrix.toarray()\n",
    "    L = DemMatrices.observables_matrix.toarray()\n",
    "    channel_prob = DemMatrices.priors\n",
    "    circuit_distance = DistanceEst_BPOSD(H, L, num_trials=num_trials_decoder)\n",
    "    \n",
    "    # 6. set up BPOSD decoder\n",
    "    bposd_decoder = BPOSD_Decoder(H, channel_prob, decoder_params['max_iter'], decoder_params['bp_method'], \n",
    "                decoder_params['ms_scaling_factor'], decoder_params['osd_method'], decoder_params['osd_order'])\n",
    "\n",
    "    # 7. get logical failure rate\n",
    "    LFR = GetLFR(detector_vals, logical_vals, L, bposd_decoder)\n",
    "    return circuit_distance, LFR\n",
    "\n",
    "def GetLFR(detector_vals, logical_vals, L, decoder):\n",
    "    def Run(i):\n",
    "        synd1, logical1 = detector_vals[i], logical_vals[i]\n",
    "        corr1 = decoder.decode(synd1)\n",
    "        le1 = np.sum((logical1 + L@corr1)%2)\n",
    "        return le1\n",
    "    num_samples_run = len(detector_vals)\n",
    "    start_time = time.time()\n",
    "    if num_samples_run > 20000:\n",
    "        batch_size = 10000\n",
    "        N = int(num_samples_run/batch_size)\n",
    "        Single_ERs = []\n",
    "        for n_batch in range(N):\n",
    "            ERs = parmap(Run, [n_batch*batch_size + i for i in range(batch_size)], nprocs = mp.cpu_count())\n",
    "            Single_ERs += ERs\n",
    "    else:\n",
    "        Single_ERs = parmap(Run, [i for i in range(num_samples_run)], nprocs = mp.cpu_count())\n",
    "    return np.average(Single_ERs) "
   ]
  },
  {
   "cell_type": "markdown",
   "id": "37e952ea",
   "metadata": {},
   "source": [
    "### set up codes"
   ]
  },
  {
   "cell_type": "code",
   "execution_count": 4,
   "id": "14d9afa1",
   "metadata": {},
   "outputs": [
    {
     "name": "stdout",
     "output_type": "stream",
     "text": [
      "2D code BLP: (2,4)-[[18,2,3]]\n",
      "3D code BLP: (4,6)-[[27,3,3]]\n",
      "2D code BLP: (2,4)-[[54,2,6]]\n",
      "3D code BLP: (4,6)-[[81,3,5]]\n"
     ]
    }
   ],
   "source": [
    "# set up 2D and 3D codes\n",
    "\n",
    "codes_2D = {}\n",
    "codes_3D = {}\n",
    "\n",
    "for d in [3, 5]:\n",
    "    code_2D = css_code(hx_dict_2d[f\"d{d}_blp\"], hz_dict_2d[f\"d{d}_blp\"])\n",
    "    num_trials = 200\n",
    "    dz = DistanceEst_BPOSD(code_2D.hx, code_2D.lx, num_trials)\n",
    "    dx = DistanceEst_BPOSD(code_2D.hz, code_2D.lz, num_trials)\n",
    "    code_2D.D = min(dz, dx)\n",
    "    print(\"2D code BLP:\", code_2D.code_params)\n",
    "    codes_2D[f'd{d}_blp'] = code_2D\n",
    "\n",
    "    code_3D = css_code(hx_dict_3d[f\"d{d}_blp\"], hz_dict_3d[f\"d{d}_blp\"])\n",
    "    num_trials = 200\n",
    "    dz = DistanceEst_BPOSD(code_3D.hx, code_3D.lx, num_trials)\n",
    "    dx = DistanceEst_BPOSD(code_3D.hz, code_3D.lz, num_trials)\n",
    "    code_3D.D = min(dz, dx)\n",
    "    print(\"3D code BLP:\", code_3D.code_params)\n",
    "    codes_3D[f'd{d}_blp'] = code_3D"
   ]
  },
  {
   "cell_type": "markdown",
   "id": "70d3f5d5",
   "metadata": {},
   "source": [
    "### set up experiments"
   ]
  },
  {
   "cell_type": "code",
   "execution_count": 5,
   "id": "bdb1c775",
   "metadata": {},
   "outputs": [],
   "source": [
    "num_points = 6\n",
    "physical_error_rates = np.logspace(-3, -2, num=num_points)\n",
    "decoder_params = {'max_iter':5, 'bp_method':'min_sum',\n",
    "                  'ms_scaling_factor':0.4, 'osd_method':'osd_cs', 'osd_order': 11}\n",
    "circuit_error_params = {\"p_i\": 0, \"p_state_p\": 1, \"p_m\": 1, \"p_CX\":1, \"p_idling_gate\": 0}\n",
    "\n",
    "unnormalized_teleport_LFRs_dict = {code_id: [] for code_id in codes_3D.keys()}\n",
    "normalized_teleport_LFRs_dict = {code_id: [] for code_id in codes_3D.keys()} # remember to normalize by k"
   ]
  },
  {
   "cell_type": "code",
   "execution_count": 6,
   "id": "8bff6605",
   "metadata": {},
   "outputs": [],
   "source": [
    "num_samples_dict = {'d3_blp': [200000,100000,50000,20000,20000,20000],\n",
    "                    'd5_blp': [200000,100000,50000,20000,20000,20000]}"
   ]
  },
  {
   "cell_type": "code",
   "execution_count": 7,
   "id": "771aa0f5",
   "metadata": {},
   "outputs": [
    {
     "name": "stdout",
     "output_type": "stream",
     "text": [
      "--------------------------------\n",
      "CODES: d3_blp (2,4)-[[18,2,3]] <> (4,6)-[[27,3,3]]\n",
      "num shots 200000 | num batches 20 | leftover 0\n",
      "processing batch 0\n",
      "processing batch 10\n"
     ]
    },
    {
     "ename": "KeyboardInterrupt",
     "evalue": "",
     "output_type": "error",
     "traceback": [
      "\u001b[0;31m---------------------------------------------------------------------------\u001b[0m",
      "\u001b[0;31mKeyboardInterrupt\u001b[0m                         Traceback (most recent call last)",
      "\u001b[0;32m/var/folders/z4/tm0yg7cs6dd1911rhc_ddqgc0000gn/T/ipykernel_43344/4079073496.py\u001b[0m in \u001b[0;36m<module>\u001b[0;34m\u001b[0m\n\u001b[1;32m     24\u001b[0m                                                                             \u001b[0;36m500\u001b[0m\u001b[0;34m,\u001b[0m\u001b[0;34m\u001b[0m\u001b[0;34m\u001b[0m\u001b[0m\n\u001b[1;32m     25\u001b[0m                                                                             \u001b[0;32mNone\u001b[0m\u001b[0;34m,\u001b[0m\u001b[0;34m\u001b[0m\u001b[0;34m\u001b[0m\u001b[0m\n\u001b[0;32m---> 26\u001b[0;31m                                                                             None)\n\u001b[0m\u001b[1;32m     27\u001b[0m         \u001b[0mnormalized_LFR\u001b[0m \u001b[0;34m=\u001b[0m \u001b[0;36m1\u001b[0m\u001b[0;34m-\u001b[0m\u001b[0;34m(\u001b[0m\u001b[0;36m1\u001b[0m\u001b[0;34m-\u001b[0m\u001b[0mLFR\u001b[0m\u001b[0;34m)\u001b[0m\u001b[0;34m**\u001b[0m\u001b[0;34m(\u001b[0m\u001b[0;36m1\u001b[0m\u001b[0;34m/\u001b[0m\u001b[0;34m(\u001b[0m\u001b[0mcode_2D\u001b[0m\u001b[0;34m.\u001b[0m\u001b[0mK\u001b[0m \u001b[0;34m*\u001b[0m \u001b[0mcode_2D\u001b[0m\u001b[0;34m.\u001b[0m\u001b[0mD\u001b[0m\u001b[0;34m)\u001b[0m\u001b[0;34m)\u001b[0m\u001b[0;34m\u001b[0m\u001b[0;34m\u001b[0m\u001b[0m\n\u001b[1;32m     28\u001b[0m         \u001b[0mprint\u001b[0m\u001b[0;34m(\u001b[0m\u001b[0;34mf\"p={p:.10f} | num shots={num_shots} | LFR={LFR:5f} | normalized LFR={normalized_LFR}\"\u001b[0m\u001b[0;34m)\u001b[0m\u001b[0;34m\u001b[0m\u001b[0;34m\u001b[0m\u001b[0m\n",
      "\u001b[0;32m/var/folders/z4/tm0yg7cs6dd1911rhc_ddqgc0000gn/T/ipykernel_43344/1311832296.py\u001b[0m in \u001b[0;36mcreate_and_simulate_2D_to_3D_teleportation_circuit\u001b[0;34m(code_2D, code_3D, gamma_2, gamma_1, p, circuit_error_params, decoder_params, num_shots, psi, num_trials_decoder, merged_schedule_2D, merged_schedule_3D)\u001b[0m\n\u001b[1;32m     19\u001b[0m             \u001b[0mbatch_detector_vals\u001b[0m\u001b[0;34m,\u001b[0m \u001b[0mbatch_logical_vals\u001b[0m \u001b[0;34m=\u001b[0m \u001b[0msampler\u001b[0m\u001b[0;34m.\u001b[0m\u001b[0msample\u001b[0m\u001b[0;34m(\u001b[0m\u001b[0mleftover\u001b[0m\u001b[0;34m,\u001b[0m \u001b[0mseparate_observables\u001b[0m\u001b[0;34m=\u001b[0m\u001b[0;32mTrue\u001b[0m\u001b[0;34m)\u001b[0m\u001b[0;34m\u001b[0m\u001b[0;34m\u001b[0m\u001b[0m\n\u001b[1;32m     20\u001b[0m         \u001b[0;32melse\u001b[0m\u001b[0;34m:\u001b[0m\u001b[0;34m\u001b[0m\u001b[0;34m\u001b[0m\u001b[0m\n\u001b[0;32m---> 21\u001b[0;31m             \u001b[0mbatch_detector_vals\u001b[0m\u001b[0;34m,\u001b[0m \u001b[0mbatch_logical_vals\u001b[0m \u001b[0;34m=\u001b[0m \u001b[0msampler\u001b[0m\u001b[0;34m.\u001b[0m\u001b[0msample\u001b[0m\u001b[0;34m(\u001b[0m\u001b[0mnum_shots_per_batch\u001b[0m\u001b[0;34m,\u001b[0m \u001b[0mseparate_observables\u001b[0m\u001b[0;34m=\u001b[0m\u001b[0;32mTrue\u001b[0m\u001b[0;34m)\u001b[0m\u001b[0;34m\u001b[0m\u001b[0;34m\u001b[0m\u001b[0m\n\u001b[0m\u001b[1;32m     22\u001b[0m         \u001b[0mdet_chunks\u001b[0m\u001b[0;34m.\u001b[0m\u001b[0mappend\u001b[0m\u001b[0;34m(\u001b[0m\u001b[0mbatch_detector_vals\u001b[0m\u001b[0;34m)\u001b[0m\u001b[0;34m\u001b[0m\u001b[0;34m\u001b[0m\u001b[0m\n\u001b[1;32m     23\u001b[0m         \u001b[0mlog_chunks\u001b[0m\u001b[0;34m.\u001b[0m\u001b[0mappend\u001b[0m\u001b[0;34m(\u001b[0m\u001b[0mbatch_logical_vals\u001b[0m\u001b[0;34m)\u001b[0m\u001b[0;34m\u001b[0m\u001b[0;34m\u001b[0m\u001b[0m\n",
      "\u001b[0;31mKeyboardInterrupt\u001b[0m: "
     ]
    }
   ],
   "source": [
    "num_shots_per_batch = 10_000\n",
    "for code_id in ['d3_blp', 'd5_blp', 'd3_toric', 'd5_toric']:\n",
    "# for code_id in ['d5_toric', 'd5_blp']:\n",
    "    code_3D = codes_3D[code_id]\n",
    "    code_2D = codes_2D[code_id]\n",
    "    gamma_2 = gamma_2_dict[code_id]\n",
    "    gamma_1 = gamma_1_dict[code_id]\n",
    "    gamma_0 = gamma_0_dict[code_id]\n",
    "    \n",
    "    print(\"--------------------------------\")\n",
    "    print(f\"CODES: {code_id} {code_2D.code_params} <> {code_3D.code_params}\")\n",
    "    for i, p in enumerate(physical_error_rates):\n",
    "        num_shots = num_samples_dict[code_id][i]\n",
    "        \n",
    "        circ_dist, LFR = create_and_simulate_2D_to_3D_teleportation_circuit(code_2D,\n",
    "                                                                            code_3D,\n",
    "                                                                            gamma_2,\n",
    "                                                                            gamma_1,\n",
    "                                                                            p,\n",
    "                                                                            circuit_error_params,\n",
    "                                                                            decoder_params,\n",
    "                                                                            num_shots,\n",
    "                                                                            \"+\",\n",
    "                                                                            500,\n",
    "                                                                            None,\n",
    "                                                                            None)\n",
    "        normalized_LFR = 1-(1-LFR)**(1/(code_2D.K * code_2D.D))\n",
    "        print(f\"p={p:.10f} | num shots={num_shots} | LFR={LFR:5f} | normalized LFR={normalized_LFR}\")\n",
    "        unnormalized_teleport_LFRs_dict[code_id].append(LFR)\n",
    "        normalized_teleport_LFRs_dict[code_id].append(normalized_LFR)"
   ]
  },
  {
   "cell_type": "code",
   "execution_count": null,
   "id": "8ab4a315",
   "metadata": {},
   "outputs": [],
   "source": [
    "import matplotlib.pyplot as plt\n",
    "\n",
    "printed_code_params = {code_id: f\"{code.code_params}\".split('-')[1] for code_id, code in codes_3D.items()}\n",
    "\n",
    "plt.rcParams.update({'font.size': 18})\n",
    "fig = plt.figure()\n",
    "fig.set_figwidth(14.4)\n",
    "fig.set_figheight(10)\n",
    "\n",
    "plt.plot(physical_error_rates, normalized_teleport_LFRs_dict['d3_blp'], marker='o', linestyle='-', color='C0', label=f\"blp {printed_code_params['d3_blp']}\", linewidth=3)\n",
    "plt.plot(physical_error_rates, normalized_teleport_LFRs_dict['d5_blp'], marker='o', linestyle='-', color='C1', label=f\"blp {printed_code_params['d5_blp']}\", linewidth=3)\n",
    "\n",
    "plt.xscale('log')\n",
    "plt.yscale('log')\n",
    "# plt.ylim(10e-6, 2*10e-2)\n",
    "\n",
    "# Labels and title\n",
    "plt.xlabel('Physical Error Rate')\n",
    "plt.ylabel('Normalized Logical Failure Rate')\n",
    "plt.title('Normalized Logical Failure Rate vs Physical Error Rate\\n for Teleportation from 2D to 3D BLP Codes')\n",
    "plt.grid(True, which='both', linestyle='--', linewidth=0.5)\n",
    "plt.legend()\n",
    "\n",
    "plt.tight_layout()\n",
    "plt.show()"
   ]
  }
 ],
 "metadata": {
  "kernelspec": {
   "display_name": "py37",
   "language": "python",
   "name": "python3"
  },
  "language_info": {
   "codemirror_mode": {
    "name": "ipython",
    "version": 3
   },
   "file_extension": ".py",
   "mimetype": "text/x-python",
   "name": "python",
   "nbconvert_exporter": "python",
   "pygments_lexer": "ipython3",
   "version": "3.7.12"
  }
 },
 "nbformat": 4,
 "nbformat_minor": 5
}
