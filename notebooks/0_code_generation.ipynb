{
 "cells": [
  {
   "cell_type": "markdown",
   "id": "6c64381a",
   "metadata": {},
   "source": [
    "# QEC Code, CNOT, and CCZ Generation\n",
    "\n",
    "This notebook contains the code for generating the QEC codes and their associated homomorphic CNOT and logical CCZ operators, as described in https://arxiv.org/abs/2510.07269\n",
    "\n",
    "Includes:\n",
    "- Toric[1]\n",
    "- Pentagon\n",
    "- Bivariate bicycle/tricycle[2]\n",
    "- Trivariate bicycle/tricycle[2]\n",
    "\n",
    "For each of these codes, the following data have been saved (as .pkl) in the /data folder.\n",
    "- Hx and Hz stabilizer generator matrices\n",
    "- homomorphism matrices (between the 3D codes and one of its component codes[3])\n",
    "- physical CCZ tensors\n",
    "\n",
    "Notes: \n",
    "\n",
    "[1]The memory and teleportation experiments use the HGP construction of the toric code. Since the physical CCZ construction requires an algebraic code construction, this version of the toric code was used for simulations with CCZ.\n",
    "\n",
    "[2]Constructing the BB/BT/TB/TT codes requires the SageMath, GAP, and QDistRnd packages.\n",
    "\n",
    "[3]In the paper, we picked the 2D component code Q_AB, while for the simulations, we used Q_BC. This was an arbitrary choice and does not change the codes beyond a permutation of variable names."
   ]
  },
  {
   "cell_type": "code",
   "execution_count": null,
   "id": "212fbc0d",
   "metadata": {},
   "outputs": [],
   "source": [
    "from sage.all import *\n",
    "gap(f'SetPackagePath(\"QDistRnd\", \"{[PATH_TO_QDistRnd]}/gap-4.14.0/pkg/qdistrnd\");')"
   ]
  },
  {
   "cell_type": "code",
   "execution_count": null,
   "id": "2fcb55d9",
   "metadata": {},
   "outputs": [
    {
     "data": {
      "text/plain": [
       "true"
      ]
     },
     "execution_count": 3,
     "metadata": {},
     "output_type": "execute_result"
    }
   ],
   "source": [
    "import numpy as np\n",
    "import joblib\n",
    "import sys\n",
    "sys.path.append('../src/')\n",
    "from CodeGeneration import (create_2D_HGP_code, \n",
    "    create_3D_HGP_code, \n",
    "    create_homomorphism_from_2D_to_3D_HGP, \n",
    "    create_homomorphism_from_2D_to_3D_LP_A, \n",
    "    check_homomorphism_commutes\n",
    ")\n",
    "from BP_codes_sage import (regular_rep_matrix, \n",
    "    lift_matrix_over_group_algebra, \n",
    "    BalancedProductCode, \n",
    "    DistanceEst_Gap, \n",
    "    ga_transpose_reverse\n",
    ")\n",
    "gap('LoadPackage(\"QDistRnd\");')"
   ]
  },
  {
   "cell_type": "markdown",
   "id": "987ff77c",
   "metadata": {},
   "source": [
    "## Code construction + homomorphisms"
   ]
  },
  {
   "cell_type": "code",
   "execution_count": null,
   "id": "979a47fe",
   "metadata": {},
   "outputs": [],
   "source": [
    "hx_dict_2D, hz_dict_2D = {}, {}\n",
    "hx_dict_3D, hz_dict_3D = {}, {}\n",
    "gamma_0_dict, gamma_1_dict, gamma_2_dict, gamma_3_dict = {}, {}, {}, {}"
   ]
  },
  {
   "cell_type": "markdown",
   "id": "b8119287",
   "metadata": {},
   "source": [
    "### Toric Codes"
   ]
  },
  {
   "cell_type": "code",
   "execution_count": null,
   "id": "4891010c",
   "metadata": {},
   "outputs": [
    {
     "name": "stdout",
     "output_type": "stream",
     "text": [
      "2D toric code: (nan,nan)-[[18,2,3]]\n",
      "3D toric code: (nan,nan)-[[81,3,3]]\n",
      "check gamma_0 and X checks commute True\n",
      "check gamma_2 and Z checks commute True\n"
     ]
    }
   ],
   "source": [
    "H_ring_d3 = np.array([[1, 1, 0],\n",
    "                      [0, 1, 1],\n",
    "                      [1, 0, 1]])\n",
    "\n",
    "code_2D = create_2D_HGP_code(H_ring_d3, H_ring_d3.T, compute_distance=False)\n",
    "code_2D.D = min(DistanceEst_Gap(code_2D))\n",
    "code_3D = create_3D_HGP_code(H_ring_d3.T, H_ring_d3, H_ring_d3.T, compute_distance=False)\n",
    "code_3D.D = min(DistanceEst_Gap(code_3D))\n",
    "print(\"2D toric code:\", code_2D.code_params)\n",
    "print(\"3D toric code:\", code_3D.code_params)\n",
    "\n",
    "gamma_0, gamma_1, gamma_2, gamma_3 = create_homomorphism_from_2D_to_3D_HGP(H_ring_d3.T, H_ring_d3, H_ring_d3.T, 0)\n",
    "print(\"check gamma_0 and X checks commute\", check_homomorphism_commutes(code_3D.hx, code_2D.hx, gamma_1, gamma_0))\n",
    "print(\"check gamma_2 and Z checks commute\", check_homomorphism_commutes(code_3D.hz.T, code_2D.hz.T, gamma_2, gamma_1))"
   ]
  },
  {
   "cell_type": "code",
   "execution_count": null,
   "id": "d89bc26c",
   "metadata": {},
   "outputs": [],
   "source": [
    "code_type = \"toric\"\n",
    "d = 3\n",
    "code_id = f\"d{d}_{code_type}\"\n",
    "hx_dict_2D[code_id], hz_dict_2D[code_id] = code_2D.hx.toarray(), code_2D.hz.toarray()\n",
    "hx_dict_3D[code_id], hz_dict_3D[code_id] = code_3D.hx.toarray(), code_3D.hz.toarray()\n",
    "gamma_0_dict[code_id], gamma_1_dict[code_id], gamma_2_dict[code_id], gamma_3_dict[code_id] = gamma_0, gamma_1, gamma_2, gamma_3"
   ]
  },
  {
   "cell_type": "code",
   "execution_count": null,
   "id": "4635c507",
   "metadata": {},
   "outputs": [
    {
     "name": "stdout",
     "output_type": "stream",
     "text": [
      "2D toric code: (nan,nan)-[[50,2,5]]\n",
      "3D toric code: (nan,nan)-[[375,3,5]]\n",
      "check gamma_0 and X checks commute True\n",
      "check gamma_2 and Z checks commute True\n"
     ]
    }
   ],
   "source": [
    "H_ring_d5 = np.array([[1, 1, 0, 0, 0],\n",
    "                      [0, 1, 1, 0, 0],\n",
    "                      [0, 0, 1, 1, 0],\n",
    "                      [0, 0, 0, 1, 1],\n",
    "                      [1, 0, 0, 0, 1]])\n",
    "\n",
    "code_2D = create_2D_HGP_code(H_ring_d5, H_ring_d5.T, compute_distance=False)\n",
    "code_2D.D = min(DistanceEst_Gap(code_2D))\n",
    "code_3D = create_3D_HGP_code(H_ring_d5.T, H_ring_d5, H_ring_d5.T, compute_distance=False)\n",
    "code_3D.D = min(DistanceEst_Gap(code_3D))\n",
    "print(\"2D toric code:\", code_2D.code_params)\n",
    "print(\"3D toric code:\", code_3D.code_params)\n",
    "\n",
    "gamma_0, gamma_1, gamma_2, gamma_3 = create_homomorphism_from_2D_to_3D_HGP(H_ring_d5.T, H_ring_d5, H_ring_d5.T, 0)\n",
    "print(\"check gamma_0 and X checks commute\", check_homomorphism_commutes(code_3D.hx, code_2D.hx, gamma_1, gamma_0))\n",
    "print(\"check gamma_2 and Z checks commute\", check_homomorphism_commutes(code_3D.hz.T, code_2D.hz.T, gamma_2, gamma_1))"
   ]
  },
  {
   "cell_type": "code",
   "execution_count": null,
   "id": "5f4f5e13",
   "metadata": {},
   "outputs": [],
   "source": [
    "code_type = \"toric\"\n",
    "d = 5\n",
    "code_id = f\"d{d}_{code_type}\"\n",
    "hx_dict_2D[code_id], hz_dict_2D[code_id] = code_2D.hx.toarray(), code_2D.hz.toarray()\n",
    "hx_dict_3D[code_id], hz_dict_3D[code_id] = code_3D.hx.toarray(), code_3D.hz.toarray()\n",
    "gamma_0_dict[code_id], gamma_1_dict[code_id], gamma_2_dict[code_id], gamma_3_dict[code_id] = gamma_0, gamma_1, gamma_2, gamma_3"
   ]
  },
  {
   "cell_type": "markdown",
   "id": "d56a3b96",
   "metadata": {},
   "source": [
    "### Pentagon Codes"
   ]
  },
  {
   "cell_type": "code",
   "execution_count": null,
   "id": "67c89be2",
   "metadata": {},
   "outputs": [
    {
     "name": "stdout",
     "output_type": "stream",
     "text": [
      "2D pentagon code: (nan,nan)-[[45,7,3]]\n",
      "3D pentagon code: (nan,nan)-[[180,8,3]]\n",
      "check gamma_0 and X checks commute True\n",
      "check gamma_2 and Z checks commute True\n"
     ]
    }
   ],
   "source": [
    "H_pentagon = np.array([[1., 0., 0., 0., 1., 1., 0., 0., 1., 0.],\n",
    "       [1., 1., 0., 0., 0., 0., 1., 0., 0., 1.],\n",
    "       [0., 1., 1., 0., 0., 1., 0., 1., 0., 0.],\n",
    "       [0., 0., 1., 1., 0., 0., 1., 0., 1., 0.],\n",
    "       [0., 0., 0., 1., 1., 0., 0., 1., 0., 1.]])\n",
    "\n",
    "# combined with H_ring_d3\n",
    "H_ring_d3 = np.array([[1, 1, 0],\n",
    "                      [0, 1, 1],\n",
    "                      [1, 0, 1]])\n",
    "\n",
    "code_3D = create_3D_HGP_code(H_ring_d3.T, H_ring_d3.T, H_pentagon, compute_distance=False)\n",
    "code_3D.D = min(DistanceEst_Gap(code_3D))\n",
    "code_2D = create_2D_HGP_code(H_ring_d3.T, H_pentagon, compute_distance=False)\n",
    "code_2D.D = min(DistanceEst_Gap(code_2D))\n",
    "print(\"2D pentagon code:\", code_2D.code_params)\n",
    "print(\"3D pentagon code:\", code_3D.code_params)\n",
    "\n",
    "gamma_0, gamma_1, gamma_2, gamma_3 = create_homomorphism_from_2D_to_3D_HGP(H_ring_d3.T, H_ring_d3.T, H_pentagon, 0)\n",
    "print(\"check gamma_0 and X checks commute\", check_homomorphism_commutes(code_3D.hx, code_2D.hx, gamma_1, gamma_0))\n",
    "print(\"check gamma_2 and Z checks commute\", check_homomorphism_commutes(code_3D.hz.T, code_2D.hz.T, gamma_2, gamma_1))"
   ]
  },
  {
   "cell_type": "code",
   "execution_count": null,
   "id": "c62405f6",
   "metadata": {},
   "outputs": [],
   "source": [
    "code_type = \"pentagon\"\n",
    "d = 3\n",
    "code_id = f\"d{d}_{code_type}\"\n",
    "hx_dict_2D[code_id], hz_dict_2D[code_id] = code_2D.hx.toarray(), code_2D.hz.toarray()\n",
    "hx_dict_3D[code_id], hz_dict_3D[code_id] = code_3D.hx.toarray(), code_3D.hz.toarray()\n",
    "gamma_0_dict[code_id], gamma_1_dict[code_id], gamma_2_dict[code_id], gamma_3_dict[code_id] = gamma_0, gamma_1, gamma_2, gamma_3"
   ]
  },
  {
   "cell_type": "markdown",
   "id": "33702590",
   "metadata": {},
   "source": [
    "### Bivariate bicycle/tricycle codes\n",
    "\n",
    "sagevenv/bin/python"
   ]
  },
  {
   "cell_type": "code",
   "execution_count": null,
   "id": "3c0b284b",
   "metadata": {},
   "outputs": [
    {
     "name": "stdout",
     "output_type": "stream",
     "text": [
      "(nan,nan)-[[27,3,3]]\n",
      "(nan,nan)-[[18,2,3]]\n",
      "check gamma_0 and X checks commute True\n",
      "check gamma_2 and Z checks commute True\n"
     ]
    }
   ],
   "source": [
    "# [[27, 3, 3]]\n",
    "lx, ly = 3, 3\n",
    "\n",
    "G = AbelianGroup([lx, ly], names=(\"x\", \"y\"))\n",
    "G_basis = G.list()\n",
    "one = G.identity()\n",
    "x, y = G.gens()\n",
    "R = GroupAlgebra(G, GF(2))\n",
    "\n",
    "binomials = {'A': R(one) + R(x*y), 'B': R(one) + R(y), 'C': R(one) + R(x*y**2)}\n",
    "H1 = Matrix(R, [[binomials['A']]])\n",
    "H2 = Matrix(R, [[binomials['B']]])\n",
    "H3 = Matrix(R, [[binomials['C']]])\n",
    "\n",
    "code_3D_obj = BalancedProductCode(H1, H2, H3)\n",
    "code_3D = code_3D_obj.code\n",
    "code_3D.D = min(DistanceEst_Gap(code_3D))\n",
    "print(code_3D.code_params)\n",
    "\n",
    "# puncture A\n",
    "code_2D_obj = BalancedProductCode(H2, H3)\n",
    "code_2D = code_2D_obj.code\n",
    "code_2D.D = min(DistanceEst_Gap(code_2D))\n",
    "print(code_2D.code_params)\n",
    "\n",
    "gamma_0, gamma_1, gamma_2, gamma_3 = create_homomorphism_from_2D_to_3D_LP_A(H1, H2, H3, R, G, one, 0)\n",
    "print(\"check gamma_0 and X checks commute\", check_homomorphism_commutes(code_3D.hx, code_2D.hx, gamma_1, gamma_0))\n",
    "print(\"check gamma_2 and Z checks commute\", check_homomorphism_commutes(code_3D.hz.T, code_2D.hz.T, gamma_2, gamma_1))"
   ]
  },
  {
   "cell_type": "code",
   "execution_count": null,
   "id": "d7e8b3a6",
   "metadata": {},
   "outputs": [],
   "source": [
    "code_type = \"blp\"\n",
    "d = 3\n",
    "code_id = f\"d{d}_{code_type}\"\n",
    "hx_dict_2D[code_id], hz_dict_2D[code_id] = code_2D.hx.toarray(), code_2D.hz.toarray()\n",
    "hx_dict_3D[code_id], hz_dict_3D[code_id] = code_3D.hx.toarray(), code_3D.hz.toarray()\n",
    "gamma_0_dict[code_id], gamma_1_dict[code_id], gamma_2_dict[code_id], gamma_3_dict[code_id] = gamma_0, gamma_1, gamma_2, gamma_3"
   ]
  },
  {
   "cell_type": "code",
   "execution_count": null,
   "id": "766b6428",
   "metadata": {},
   "outputs": [
    {
     "name": "stdout",
     "output_type": "stream",
     "text": [
      "(nan,nan)-[[81,3,5]]\n",
      "(nan,nan)-[[54,2,6]]\n",
      "check gamma_0 and X checks commute True\n",
      "check gamma_2 and Z checks commute True\n"
     ]
    }
   ],
   "source": [
    "# [[81, 3, 5]]\n",
    "lx, ly = 3, 9\n",
    "\n",
    "G = AbelianGroup([lx, ly], names=(\"x\", \"y\"))\n",
    "G_basis = G.list()\n",
    "one = G.identity()\n",
    "x, y = G.gens()\n",
    "R = GroupAlgebra(G, GF(2))\n",
    "\n",
    "binomials = {'A': R(x**2*y**4) + R(x**2*y**6), 'B': R(x*y**3) + R(x**2*y), 'C': R(one) + R(x*y**8)}\n",
    "H1 = Matrix(R, [[binomials['A']]])\n",
    "H2 = Matrix(R, [[binomials['B']]])\n",
    "H3 = Matrix(R, [[binomials['C']]])\n",
    "\n",
    "code_3D_obj = BalancedProductCode(H1, H2, H3)\n",
    "code_3D = code_3D_obj.code\n",
    "code_3D.D = min(DistanceEst_Gap(code_3D))\n",
    "print(code_3D.code_params)\n",
    "\n",
    "# puncture A\n",
    "code_2D_obj = BalancedProductCode(H2, H3)\n",
    "code_2D = code_2D_obj.code\n",
    "code_2D.D = min(DistanceEst_Gap(code_2D))\n",
    "print(code_2D.code_params)\n",
    "\n",
    "gamma_0, gamma_1, gamma_2, gamma_3 = create_homomorphism_from_2D_to_3D_LP_A(H1, H2, H3, R, G, one, 0)\n",
    "print(\"check gamma_0 and X checks commute\", check_homomorphism_commutes(code_3D.hx, code_2D.hx, gamma_1, gamma_0))\n",
    "print(\"check gamma_2 and Z checks commute\", check_homomorphism_commutes(code_3D.hz.T, code_2D.hz.T, gamma_2, gamma_1))"
   ]
  },
  {
   "cell_type": "code",
   "execution_count": null,
   "id": "0a70650c",
   "metadata": {},
   "outputs": [],
   "source": [
    "code_type = \"blp\"\n",
    "d = 5\n",
    "code_id = f\"d{d}_{code_type}\"\n",
    "hx_dict_2D[code_id], hz_dict_2D[code_id] = code_2D.hx.toarray(), code_2D.hz.toarray()\n",
    "hx_dict_3D[code_id], hz_dict_3D[code_id] = code_3D.hx.toarray(), code_3D.hz.toarray()\n",
    "gamma_0_dict[code_id], gamma_1_dict[code_id], gamma_2_dict[code_id], gamma_3_dict[code_id] = gamma_0, gamma_1, gamma_2, gamma_3"
   ]
  },
  {
   "cell_type": "markdown",
   "id": "97a32552",
   "metadata": {},
   "source": [
    "### Trivariate bicycle/tricycle Codes"
   ]
  },
  {
   "cell_type": "code",
   "execution_count": null,
   "id": "00055b51",
   "metadata": {},
   "outputs": [
    {
     "name": "stdout",
     "output_type": "stream",
     "text": [
      "{'A': y*z + y^4*z^2, 'B': y^2*z^2 + x*y^2*z^4, 'C': 1 + x*y^2*z^3}\n",
      "(nan,nan)-[[210,3,7]]\n",
      "(nan,nan)-[[140,2,8]]\n",
      "check gamma_0 and X checks commute True\n",
      "check gamma_2 and Z checks commute True\n"
     ]
    }
   ],
   "source": [
    "lx, ly, lz = 2, 5, 7\n",
    "\n",
    "G = AbelianGroup([lx, ly, lz], names=(\"x\", \"y\", \"z\"))\n",
    "G_basis = G.list()\n",
    "one = G.identity()\n",
    "x, y, z = G.gens()\n",
    "R = GroupAlgebra(G, GF(2))\n",
    "\n",
    "binomials = {'A': R(y*z) + R(y**4*z**2), 'B': R(y**2*z**2) + R( x*y**2*z**4), 'C': R(one) + R(x*y**2*z**3)}\n",
    "print(binomials)\n",
    "H1 = Matrix(R, [[binomials['A']]])\n",
    "H2 = Matrix(R, [[binomials['B']]])\n",
    "H3 = Matrix(R, [[binomials['C']]])\n",
    "\n",
    "code_3D_obj = BalancedProductCode(H1, H2, H3)\n",
    "code_3D = code_3D_obj.code\n",
    "code_3D.D = min(DistanceEst_Gap(code_3D))\n",
    "print(code_3D.code_params)\n",
    "\n",
    "code_2D_obj = BalancedProductCode(H2, H3)\n",
    "code_2D = code_2D_obj.code\n",
    "code_2D.D = min(DistanceEst_Gap(code_2D))\n",
    "print(code_2D.code_params)\n",
    "\n",
    "gamma_0, gamma_1, gamma_2, gamma_3 = create_homomorphism_from_2D_to_3D_LP_A(H1, H2, H3, R, G, one, 0)\n",
    "print(\"check gamma_0 and X checks commute\", check_homomorphism_commutes(code_3D.hx, code_2D.hx, gamma_1, gamma_0))\n",
    "print(\"check gamma_2 and Z checks commute\", check_homomorphism_commutes(code_3D.hz.T, code_2D.hz.T, gamma_2, gamma_1))"
   ]
  },
  {
   "cell_type": "code",
   "execution_count": null,
   "id": "f8031bdb",
   "metadata": {},
   "outputs": [],
   "source": [
    "code_type = \"tlp\"\n",
    "d = 7\n",
    "code_id = f\"d{d}_{code_type}\"\n",
    "hx_dict_2D[code_id], hz_dict_2D[code_id] = code_2D.hx.toarray(), code_2D.hz.toarray()\n",
    "hx_dict_3D[code_id], hz_dict_3D[code_id] = code_3D.hx.toarray(), code_3D.hz.toarray()\n",
    "gamma_0_dict[code_id], gamma_1_dict[code_id], gamma_2_dict[code_id], gamma_3_dict[code_id] = gamma_0, gamma_1, gamma_2, gamma_3"
   ]
  },
  {
   "cell_type": "markdown",
   "id": "8754d96a",
   "metadata": {},
   "source": [
    "### algebraic construction of toric codes"
   ]
  },
  {
   "cell_type": "code",
   "execution_count": null,
   "id": "c967845f",
   "metadata": {},
   "outputs": [
    {
     "name": "stdout",
     "output_type": "stream",
     "text": [
      "{'A': 1 + x, 'B': 1 + y, 'C': 1 + z}\n",
      "(nan,nan)-[[81,3,3]]\n"
     ]
    }
   ],
   "source": [
    "lx, ly, lz = 3, 3, 3\n",
    "\n",
    "G = AbelianGroup([lx, ly, lz], names=(\"x\", \"y\", \"z\"))\n",
    "G_basis = G.list()\n",
    "one = G.identity()\n",
    "x, y, z = G.gens()\n",
    "R = GroupAlgebra(G, GF(2))\n",
    "\n",
    "binomials = {'A': R(one) + R(x), 'B': R(one) + R(y), 'C': R(one) + R(z)}\n",
    "print(binomials)\n",
    "H1 = Matrix(R, [[binomials['A']]])\n",
    "H2 = Matrix(R, [[binomials['B']]])\n",
    "H3 = Matrix(R, [[binomials['C']]])\n",
    "\n",
    "code_3D_obj = BalancedProductCode(H1, H2, H3)\n",
    "code_3D = code_3D_obj.code\n",
    "code_3D.D = min(DistanceEst_Gap(code_3D, trials = 30))\n",
    "print(code_3D.code_params)"
   ]
  },
  {
   "cell_type": "code",
   "execution_count": null,
   "id": "d4696c40",
   "metadata": {},
   "outputs": [],
   "source": [
    "code_type = \"algebraic_toric\"\n",
    "d = 3\n",
    "code_id = f\"d{d}_{code_type}\"\n",
    "hx_dict_3D[code_id], hz_dict_3D[code_id] = code_3D.hx.toarray(), code_3D.hz.toarray()"
   ]
  },
  {
   "cell_type": "code",
   "execution_count": null,
   "id": "a39abf5b",
   "metadata": {},
   "outputs": [
    {
     "name": "stdout",
     "output_type": "stream",
     "text": [
      "{'A': 1 + x, 'B': 1 + y, 'C': 1 + z}\n",
      "(nan,nan)-[[375,3,5]]\n"
     ]
    }
   ],
   "source": [
    "lx, ly, lz = 5, 5, 5\n",
    "\n",
    "G = AbelianGroup([lx, ly, lz], names=(\"x\", \"y\", \"z\"))\n",
    "G_basis = G.list()\n",
    "one = G.identity()\n",
    "x, y, z = G.gens()\n",
    "R = GroupAlgebra(G, GF(2))\n",
    "\n",
    "binomials = {'A': R(one) + R(x), 'B': R(one) + R(y), 'C': R(one) + R(z)}\n",
    "print(binomials)\n",
    "H1 = Matrix(R, [[binomials['A']]])\n",
    "H2 = Matrix(R, [[binomials['B']]])\n",
    "H3 = Matrix(R, [[binomials['C']]])\n",
    "\n",
    "code_3D_obj = BalancedProductCode(H1, H2, H3)\n",
    "code_3D = code_3D_obj.code\n",
    "code_3D.D = min(DistanceEst_Gap(code_3D, trials = 30))\n",
    "print(code_3D.code_params)"
   ]
  },
  {
   "cell_type": "code",
   "execution_count": null,
   "id": "2c231b50",
   "metadata": {},
   "outputs": [],
   "source": [
    "code_type = \"algebraic_toric\"\n",
    "d = 5\n",
    "code_id = f\"d{d}_{code_type}\"\n",
    "hx_dict_3D[code_id], hz_dict_3D[code_id] = code_3D.hx.toarray(), code_3D.hz.toarray()"
   ]
  },
  {
   "cell_type": "markdown",
   "id": "5fe78e1e",
   "metadata": {},
   "source": [
    "### save codes to .pkl file"
   ]
  },
  {
   "cell_type": "code",
   "execution_count": null,
   "id": "24554b15",
   "metadata": {},
   "outputs": [
    {
     "name": "stdout",
     "output_type": "stream",
     "text": [
      "d3_toric\n",
      "2D (nan,nan)-[[18,2,3]]\n",
      "3D (nan,nan)-[[81,3,3]]\n",
      "d5_toric\n",
      "2D (nan,nan)-[[50,2,5]]\n",
      "3D (nan,nan)-[[375,3,5]]\n",
      "d3_pentagon\n",
      "2D (nan,nan)-[[45,7,3]]\n",
      "3D (nan,nan)-[[180,8,3]]\n",
      "d3_blp\n",
      "2D (nan,nan)-[[18,2,3]]\n",
      "3D (nan,nan)-[[27,3,3]]\n",
      "d5_blp\n",
      "2D (nan,nan)-[[54,2,6]]\n",
      "3D (nan,nan)-[[81,3,5]]\n",
      "d7_tlp\n",
      "2D (nan,nan)-[[140,2,8]]\n",
      "3D (nan,nan)-[[210,3,7]]\n",
      "d3_algebraic_toric\n",
      "3D (nan,nan)-[[81,3,3]]\n",
      "d5_algebraic_toric\n",
      "3D (nan,nan)-[[375,3,5]]\n"
     ]
    }
   ],
   "source": [
    "# verify all dicts contain the correct codes\n",
    "\n",
    "from bposd.css import css_code\n",
    "\n",
    "for code_id in hx_dict_3D.keys():\n",
    "    print(code_id)\n",
    "    if code_id in hx_dict_2D:\n",
    "        hx = hx_dict_2D[code_id]\n",
    "        hz = hz_dict_2D[code_id]\n",
    "        code_2D = css_code(hx, hz)\n",
    "        code_2D.D = min(DistanceEst_Gap(code_2D))\n",
    "        print(\"2D\", code_2D.code_params)\n",
    "    hx = hx_dict_3D[code_id]\n",
    "    hz = hz_dict_3D[code_id]\n",
    "    code_3D = css_code(hx, hz)\n",
    "    code_3D.D = min(DistanceEst_Gap(code_3D))\n",
    "    print(\"3D\", code_3D.code_params)"
   ]
  },
  {
   "cell_type": "code",
   "execution_count": null,
   "id": "f645c11f",
   "metadata": {},
   "outputs": [
    {
     "data": {
      "text/plain": [
       "['../data/gamma_3_dict.pkl']"
      ]
     },
     "execution_count": 24,
     "metadata": {},
     "output_type": "execute_result"
    }
   ],
   "source": [
    "joblib.dump(hx_dict_2D, '../data/hx_dict_2D.pkl')\n",
    "joblib.dump(hz_dict_2D, '../data/hz_dict_2D.pkl')\n",
    "joblib.dump(hx_dict_3D, '../data/hx_dict_3D.pkl')\n",
    "joblib.dump(hz_dict_3D, '../data/hz_dict_3D.pkl')\n",
    "joblib.dump(gamma_0_dict, '../data/gamma_0_dict.pkl')\n",
    "joblib.dump(gamma_1_dict, '../data/gamma_1_dict.pkl')\n",
    "joblib.dump(gamma_2_dict, '../data/gamma_2_dict.pkl')\n",
    "joblib.dump(gamma_3_dict, '../data/gamma_3_dict.pkl')\n"
   ]
  },
  {
   "cell_type": "markdown",
   "id": "a1215d3e",
   "metadata": {},
   "source": [
    "## Physical CCZ tensor construction"
   ]
  },
  {
   "cell_type": "code",
   "execution_count": null,
   "id": "ef5ebdbf",
   "metadata": {},
   "outputs": [],
   "source": [
    "from PCCZMatrix import generate_triples, generate_PCCZ_bivariate, generate_PCCZ_trivariate\n",
    "from BP_cup_prod import VerifyCohomology_CZ, VerifyCohomology_CCZ"
   ]
  },
  {
   "cell_type": "code",
   "execution_count": null,
   "id": "7a02dc50",
   "metadata": {},
   "outputs": [],
   "source": [
    "P_CCZ_dict = {}"
   ]
  },
  {
   "cell_type": "markdown",
   "id": "187bcdcc",
   "metadata": {},
   "source": [
    "### [[27, 3, 3]] bivariate tricycle"
   ]
  },
  {
   "cell_type": "code",
   "execution_count": null,
   "id": "90da7e4c",
   "metadata": {},
   "outputs": [
    {
     "name": "stdout",
     "output_type": "stream",
     "text": [
      "{'A': x + x^2*y, 'B': x^2*y + x^2*y^2, 'C': 1 + x*y^2}\n",
      "(nan,nan)-[[27,3,3]]\n"
     ]
    }
   ],
   "source": [
    "lx, ly = 3, 3\n",
    "\n",
    "G = AbelianGroup([lx, ly], names=(\"x\", \"y\"))\n",
    "G_basis = G.list()\n",
    "one = G.identity()\n",
    "x, y = G.gens()\n",
    "R = GroupAlgebra(G, GF(2))\n",
    "\n",
    "binomials = {'A': R(x) + R(x**2*y), 'B': R(x**2*y) + R(x**2*y**2), 'C': R(one) + R(x*y**2)}\n",
    "print(binomials)\n",
    "H1 = Matrix(R, [[binomials['A']]])\n",
    "H2 = Matrix(R, [[binomials['B']]])\n",
    "H3 = Matrix(R, [[binomials['C']]])\n",
    "\n",
    "code_3D_obj = BalancedProductCode(H1, H2, H3)\n",
    "code_3D = code_3D_obj.code\n",
    "code_3D.D = min(DistanceEst_Gap(code_3D))\n",
    "print(code_3D.code_params)\n",
    "\n",
    "n0 = int(code_3D.N/3)\n",
    "n = code_3D.N"
   ]
  },
  {
   "cell_type": "code",
   "execution_count": null,
   "id": "498a1bcc",
   "metadata": {},
   "outputs": [],
   "source": [
    "# specify the orientations for the classical codes\n",
    "# a\n",
    "Ha_in = Matrix(R, [[R(x)]])\n",
    "Ha_out = Matrix(R, [[R(x**2*y)]])\n",
    "Ha_free = Matrix(R, [[R(0)]])\n",
    "\n",
    "delta_in, delta_out, delta_free = ga_transpose_reverse(Ha_in), ga_transpose_reverse(Ha_out), ga_transpose_reverse(Ha_free)\n",
    "delta_a = delta_in + delta_out + delta_free\n",
    "orientation_mats_a = {'delta_in': delta_in,  'delta_out': delta_out, 'delta_free': delta_free}\n",
    "\n",
    "# b\n",
    "Ha_in = Matrix(R, [[R(x**2*y)]])\n",
    "Ha_out = Matrix(R, [[R(x**2*y**2)]])\n",
    "Ha_free = Matrix(R, [[R(0)]])\n",
    "\n",
    "delta_in, delta_out, delta_free = ga_transpose_reverse(Ha_in), ga_transpose_reverse(Ha_out), ga_transpose_reverse(Ha_free)\n",
    "delta_b = delta_in + delta_out + delta_free\n",
    "orientation_mats_b = {'delta_in': delta_in,  'delta_out': delta_out, 'delta_free': delta_free}\n",
    "\n",
    "# c\n",
    "Ha_in = Matrix(R, [[R(one)]])\n",
    "Ha_out = Matrix(R, [[R(x*y**2)]])\n",
    "Ha_free = Matrix(R, [[R(0)]])\n",
    "\n",
    "delta_in, delta_out, delta_free = ga_transpose_reverse(Ha_in), ga_transpose_reverse(Ha_out), ga_transpose_reverse(Ha_free)\n",
    "delta_c = delta_in + delta_out + delta_free\n",
    "orientation_mats_c = {'delta_in': delta_in,  'delta_out': delta_out, 'delta_free': delta_free}\n",
    "\n",
    "deltas = {'delta_a':delta_a, 'delta_b':delta_b, 'delta_c':delta_c}\n",
    "orientation_mats = {'orientation_mats_a':orientation_mats_a, 'orientation_mats_b':orientation_mats_b, 'orientation_mats_c':orientation_mats_c}"
   ]
  },
  {
   "cell_type": "code",
   "execution_count": null,
   "id": "e6cdf2d7",
   "metadata": {},
   "outputs": [
    {
     "data": {
      "text/plain": [
       "True"
      ]
     },
     "execution_count": 29,
     "metadata": {},
     "output_type": "execute_result"
    }
   ],
   "source": [
    "def MonomialToQIx(alpha, b_ix):\n",
    "    mat = regular_rep_matrix(alpha, G_basis)\n",
    "    m_ix = np.where(np.array(mat[:, 0]) == 1)[0][0]\n",
    "    return b_ix*n0 + m_ix\n",
    "\n",
    "triples = generate_triples(orientation_mats_a, orientation_mats_b, orientation_mats_c)\n",
    "P_CCZ_mat = generate_PCCZ_bivariate(n, R, x, y, lx, ly, triples, MonomialToQIx)\n",
    "VerifyCohomology_CCZ(code_3D, P_CCZ_mat)"
   ]
  },
  {
   "cell_type": "code",
   "execution_count": null,
   "id": "64b41e35",
   "metadata": {},
   "outputs": [],
   "source": [
    "code_type = \"blp\"\n",
    "d = 3\n",
    "code_id = f\"d{d}_{code_type}\"\n",
    "P_CCZ_dict[code_id] = P_CCZ_mat"
   ]
  },
  {
   "cell_type": "markdown",
   "id": "dec633e9",
   "metadata": {},
   "source": [
    "### [[81, 3, 5]] bivariate tricycle"
   ]
  },
  {
   "cell_type": "code",
   "execution_count": null,
   "id": "d68f762b",
   "metadata": {},
   "outputs": [
    {
     "name": "stdout",
     "output_type": "stream",
     "text": [
      "(nan,nan)-[[81,3,5]]\n"
     ]
    }
   ],
   "source": [
    "lx, ly = 3, 9\n",
    "\n",
    "G = AbelianGroup([lx, ly], names=(\"x\", \"y\"))\n",
    "G_basis = G.list()\n",
    "one = G.identity()\n",
    "x, y = G.gens()\n",
    "R = GroupAlgebra(G, GF(2))\n",
    "\n",
    "binomials = {'A': R(x**2*y**4) + R(x**2*y**6), 'B': R(x*y**3) + R(x**2*y), 'C': R(one) + R(x*y**8)}\n",
    "H1 = Matrix(R, [[binomials['A']]])\n",
    "H2 = Matrix(R, [[binomials['B']]])\n",
    "H3 = Matrix(R, [[binomials['C']]])\n",
    "\n",
    "code_3D_obj = BalancedProductCode(H1, H2, H3)\n",
    "code_3D = code_3D_obj.code\n",
    "code_3D.D = min(DistanceEst_Gap(code_3D))\n",
    "print(code_3D.code_params)\n",
    "\n",
    "n0 = int(code_3D.N/3)\n",
    "n = code_3D.N"
   ]
  },
  {
   "cell_type": "code",
   "execution_count": null,
   "id": "699f8478",
   "metadata": {},
   "outputs": [],
   "source": [
    "# specify the orientations for the classical codes\n",
    "# a\n",
    "Ha_in = Matrix(R, [[R(x**2*y**4)]])\n",
    "Ha_out = Matrix(R, [[R(x**2*y**6)]])\n",
    "Ha_free = Matrix(R, [[R(0)]])\n",
    "\n",
    "delta_in, delta_out, delta_free = ga_transpose_reverse(Ha_in), ga_transpose_reverse(Ha_out), ga_transpose_reverse(Ha_free)\n",
    "delta_a = delta_in + delta_out + delta_free\n",
    "orientation_mats_a = {'delta_in': delta_in,  'delta_out': delta_out, 'delta_free': delta_free}\n",
    "\n",
    "# b\n",
    "Ha_in = Matrix(R, [[R(x*y**3)]])\n",
    "Ha_out = Matrix(R, [[R(x**2*y)]])\n",
    "Ha_free = Matrix(R, [[R(0)]])\n",
    "\n",
    "delta_in, delta_out, delta_free = ga_transpose_reverse(Ha_in), ga_transpose_reverse(Ha_out), ga_transpose_reverse(Ha_free)\n",
    "delta_b = delta_in + delta_out + delta_free\n",
    "orientation_mats_b = {'delta_in': delta_in,  'delta_out': delta_out, 'delta_free': delta_free}\n",
    "\n",
    "# c\n",
    "Ha_in = Matrix(R, [[R(one)]])\n",
    "Ha_out = Matrix(R, [[R(x*y**8)]])\n",
    "Ha_free = Matrix(R, [[R(0)]])\n",
    "\n",
    "delta_in, delta_out, delta_free = ga_transpose_reverse(Ha_in), ga_transpose_reverse(Ha_out), ga_transpose_reverse(Ha_free)\n",
    "delta_c = delta_in + delta_out + delta_free\n",
    "orientation_mats_c = {'delta_in': delta_in,  'delta_out': delta_out, 'delta_free': delta_free}\n",
    "\n",
    "# combining\n",
    "deltas = {'delta_a':delta_a, 'delta_b':delta_b, 'delta_c':delta_c}\n",
    "orientation_mats = {'orientation_mats_a':orientation_mats_a, 'orientation_mats_b':orientation_mats_b, 'orientation_mats_c':orientation_mats_c}"
   ]
  },
  {
   "cell_type": "code",
   "execution_count": null,
   "id": "e1ebc250",
   "metadata": {},
   "outputs": [
    {
     "data": {
      "text/plain": [
       "True"
      ]
     },
     "execution_count": 33,
     "metadata": {},
     "output_type": "execute_result"
    }
   ],
   "source": [
    "def MonomialToQIx(alpha, b_ix):\n",
    "    mat = regular_rep_matrix(alpha, G_basis)\n",
    "    m_ix = np.where(np.array(mat[:, 0]) == 1)[0][0]\n",
    "    return b_ix*n0 + m_ix\n",
    "\n",
    "# get physical CCZ matrix and verify its cohomology is correct\n",
    "triples = generate_triples(orientation_mats_a, orientation_mats_b, orientation_mats_c)\n",
    "P_CCZ_mat = generate_PCCZ_bivariate(n, R, x, y, lx, ly, triples, MonomialToQIx)\n",
    "VerifyCohomology_CCZ(code_3D, P_CCZ_mat)"
   ]
  },
  {
   "cell_type": "code",
   "execution_count": null,
   "id": "f3c6f9b7",
   "metadata": {},
   "outputs": [],
   "source": [
    "code_type = \"blp\"\n",
    "d = 5\n",
    "code_id = f\"d{d}_{code_type}\"\n",
    "P_CCZ_dict[code_id] = P_CCZ_mat"
   ]
  },
  {
   "cell_type": "markdown",
   "id": "022ec95b",
   "metadata": {},
   "source": [
    "### [[81, 3, 3]] 3D toric"
   ]
  },
  {
   "cell_type": "code",
   "execution_count": null,
   "id": "674d5e65",
   "metadata": {},
   "outputs": [
    {
     "name": "stdout",
     "output_type": "stream",
     "text": [
      "{'A': 1 + x, 'B': 1 + y, 'C': 1 + z}\n",
      "(nan,nan)-[[81,3,3]]\n"
     ]
    }
   ],
   "source": [
    "lx, ly, lz = 3, 3, 3\n",
    "\n",
    "G = AbelianGroup([lx, ly, lz], names=(\"x\", \"y\", \"z\"))\n",
    "G_basis = G.list()\n",
    "one = G.identity()\n",
    "x, y, z = G.gens()\n",
    "R = GroupAlgebra(G, GF(2))\n",
    "\n",
    "binomials = {'A': R(one) + R(x), 'B': R(one) + R(y), 'C': R(one) + R(z)}\n",
    "print(binomials)\n",
    "H1 = Matrix(R, [[binomials['A']]])\n",
    "H2 = Matrix(R, [[binomials['B']]])\n",
    "H3 = Matrix(R, [[binomials['C']]])\n",
    "\n",
    "code_3D_obj = BalancedProductCode(H1, H2, H3)\n",
    "code_3D = code_3D_obj.code\n",
    "code_3D.D = min(DistanceEst_Gap(code_3D, trials = 30))\n",
    "print(code_3D.code_params)\n",
    "\n",
    "n0 = int(code_3D.N/3)\n",
    "n = code_3D.N"
   ]
  },
  {
   "cell_type": "code",
   "execution_count": null,
   "id": "54e6ee6a",
   "metadata": {},
   "outputs": [],
   "source": [
    "# get map from (alpha, ix) to qubit_ix\n",
    "def MonomialToQIx(alpha, b_ix):\n",
    "    mat = regular_rep_matrix(alpha, G_basis)\n",
    "    m_ix = np.where(np.array(mat[:, 0]) == 1)[0][0]\n",
    "    return b_ix*n0 + m_ix\n",
    "\n",
    "# specify the orientations for the classical codes\n",
    "# a\n",
    "Ha_in = Matrix(R, [[R(one)]])\n",
    "Ha_out = Matrix(R, [[R(x)]])\n",
    "Ha_free = Matrix(R, [[R(0)]])\n",
    "\n",
    "delta_in, delta_out, delta_free = ga_transpose_reverse(Ha_in), ga_transpose_reverse(Ha_out), ga_transpose_reverse(Ha_free)\n",
    "delta_a = delta_in + delta_out + delta_free\n",
    "orientation_mats_a = {'delta_in': delta_in,  'delta_out': delta_out, 'delta_free': delta_free}\n",
    "\n",
    "# b\n",
    "Ha_in = Matrix(R, [[R(one)]])\n",
    "Ha_out = Matrix(R, [[R(y)]])\n",
    "Ha_free = Matrix(R, [[R(0)]])\n",
    "\n",
    "delta_in, delta_out, delta_free = ga_transpose_reverse(Ha_in), ga_transpose_reverse(Ha_out), ga_transpose_reverse(Ha_free)\n",
    "delta_b = delta_in + delta_out + delta_free\n",
    "orientation_mats_b = {'delta_in': delta_in,  'delta_out': delta_out, 'delta_free': delta_free}\n",
    "\n",
    "# c\n",
    "Ha_in = Matrix(R, [[R(one)]])\n",
    "Ha_out = Matrix(R, [[R(z)]])\n",
    "Ha_free = Matrix(R, [[R(0)]])\n",
    "\n",
    "delta_in, delta_out, delta_free = ga_transpose_reverse(Ha_in), ga_transpose_reverse(Ha_out), ga_transpose_reverse(Ha_free)\n",
    "delta_c = delta_in + delta_out + delta_free\n",
    "orientation_mats_c = {'delta_in': delta_in,  'delta_out': delta_out, 'delta_free': delta_free}\n",
    "\n",
    "deltas = {'delta_a':delta_a, 'delta_b':delta_b, 'delta_c':delta_c}\n",
    "orientation_mats = {'orientation_mats_a':orientation_mats_a, 'orientation_mats_b':orientation_mats_b, 'orientation_mats_c':orientation_mats_c}"
   ]
  },
  {
   "cell_type": "code",
   "execution_count": null,
   "id": "8689f066",
   "metadata": {},
   "outputs": [],
   "source": [
    "def MonomialToQIx(alpha, b_ix):\n",
    "    mat = regular_rep_matrix(alpha, G_basis)\n",
    "    m_ix = np.where(np.array(mat[:, 0]) == 1)[0][0]\n",
    "    return b_ix*n0 + m_ix\n",
    "\n",
    "# get physical CCZ matrix and verify its cohomology is correct\n",
    "triples = generate_triples(orientation_mats_a, orientation_mats_b, orientation_mats_c)\n",
    "P_CCZ_mat = generate_PCCZ_trivariate(n, R, x, y, z, lx, ly, lz, triples, MonomialToQIx)\n",
    "# VerifyCohomology_CCZ(code_3D, P_CCZ_mat)"
   ]
  },
  {
   "cell_type": "code",
   "execution_count": null,
   "id": "d67f4b3a",
   "metadata": {},
   "outputs": [],
   "source": [
    "code_type = \"algebraic_toric\"\n",
    "d = 3\n",
    "code_id = f\"d{d}_{code_type}\"\n",
    "P_CCZ_dict[code_id] = P_CCZ_mat"
   ]
  },
  {
   "cell_type": "markdown",
   "id": "d77a3b93",
   "metadata": {},
   "source": [
    "### [[375, 3, 5]] 3D toric"
   ]
  },
  {
   "cell_type": "code",
   "execution_count": null,
   "id": "e7678f75",
   "metadata": {},
   "outputs": [
    {
     "name": "stdout",
     "output_type": "stream",
     "text": [
      "{'A': 1 + x, 'B': 1 + y, 'C': 1 + z}\n",
      "(nan,nan)-[[375,3,5]]\n"
     ]
    }
   ],
   "source": [
    "lx, ly, lz = 5, 5, 5\n",
    "\n",
    "G = AbelianGroup([lx, ly, lz], names=(\"x\", \"y\", \"z\"))\n",
    "G_basis = G.list()\n",
    "one = G.identity()\n",
    "x, y, z = G.gens()\n",
    "R = GroupAlgebra(G, GF(2))\n",
    "\n",
    "binomials = {'A': R(one) + R(x), 'B': R(one) + R(y), 'C': R(one) + R(z)}\n",
    "print(binomials)\n",
    "H1 = Matrix(R, [[binomials['A']]])\n",
    "H2 = Matrix(R, [[binomials['B']]])\n",
    "H3 = Matrix(R, [[binomials['C']]])\n",
    "\n",
    "code_3D_obj = BalancedProductCode(H1, H2, H3)\n",
    "code_3D = code_3D_obj.code\n",
    "code_3D.D = min(DistanceEst_Gap(code_3D, trials = 30))\n",
    "print(code_3D.code_params)\n",
    "\n",
    "n0 = int(code_3D.N/3)\n",
    "n = code_3D.N"
   ]
  },
  {
   "cell_type": "code",
   "execution_count": null,
   "id": "3af04634",
   "metadata": {},
   "outputs": [],
   "source": [
    "# specify the orientations for the classical codes\n",
    "# a\n",
    "Ha_in = Matrix(R, [[R(one)]])\n",
    "Ha_out = Matrix(R, [[R(x)]])\n",
    "Ha_free = Matrix(R, [[R(0)]])\n",
    "\n",
    "delta_in, delta_out, delta_free = ga_transpose_reverse(Ha_in), ga_transpose_reverse(Ha_out), ga_transpose_reverse(Ha_free)\n",
    "delta_a = delta_in + delta_out + delta_free\n",
    "orientation_mats_a = {'delta_in': delta_in,  'delta_out': delta_out, 'delta_free': delta_free}\n",
    "\n",
    "# b\n",
    "Ha_in = Matrix(R, [[R(one)]])\n",
    "Ha_out = Matrix(R, [[R(y)]])\n",
    "Ha_free = Matrix(R, [[R(0)]])\n",
    "\n",
    "delta_in, delta_out, delta_free = ga_transpose_reverse(Ha_in), ga_transpose_reverse(Ha_out), ga_transpose_reverse(Ha_free)\n",
    "delta_b = delta_in + delta_out + delta_free\n",
    "orientation_mats_b = {'delta_in': delta_in,  'delta_out': delta_out, 'delta_free': delta_free}\n",
    "\n",
    "# c\n",
    "Ha_in = Matrix(R, [[R(one)]])\n",
    "Ha_out = Matrix(R, [[R(z)]])\n",
    "Ha_free = Matrix(R, [[R(0)]])\n",
    "\n",
    "delta_in, delta_out, delta_free = ga_transpose_reverse(Ha_in), ga_transpose_reverse(Ha_out), ga_transpose_reverse(Ha_free)\n",
    "delta_c = delta_in + delta_out + delta_free\n",
    "orientation_mats_c = {'delta_in': delta_in,  'delta_out': delta_out, 'delta_free': delta_free}\n",
    "\n",
    "deltas = {'delta_a':delta_a, 'delta_b':delta_b, 'delta_c':delta_c}\n",
    "orientation_mats = {'orientation_mats_a':orientation_mats_a, 'orientation_mats_b':orientation_mats_b, 'orientation_mats_c':orientation_mats_c}"
   ]
  },
  {
   "cell_type": "code",
   "execution_count": null,
   "id": "58ab3383",
   "metadata": {},
   "outputs": [],
   "source": [
    "def MonomialToQIx(alpha, b_ix):\n",
    "    mat = regular_rep_matrix(alpha, G_basis)\n",
    "    m_ix = np.where(np.array(mat[:, 0]) == 1)[0][0]\n",
    "    return b_ix*n0 + m_ix\n",
    "\n",
    "# get physical CCZ matrix and verify its cohomology is correct\n",
    "triples = generate_triples(orientation_mats_a, orientation_mats_b, orientation_mats_c)\n",
    "P_CCZ_mat = generate_PCCZ_trivariate(n, R, x, y, z, lx, ly, lz, triples, MonomialToQIx)\n",
    "# VerifyCohomology_CCZ(code_3D, P_CCZ_mat)"
   ]
  },
  {
   "cell_type": "code",
   "execution_count": null,
   "id": "758cbce1",
   "metadata": {},
   "outputs": [],
   "source": [
    "# code_type = \"algebraic_toric\"\n",
    "# d = 5\n",
    "# code_id = f\"d{d}_{code_type}\"\n",
    "# P_CCZ_dict[code_id] = P_CCZ_mat"
   ]
  },
  {
   "cell_type": "markdown",
   "id": "1b51873e",
   "metadata": {},
   "source": [
    "### save P_CCZ dict to .pkl file\n",
    "\n",
    "Note: this is not uploaded to the Github repo because file size is too large."
   ]
  },
  {
   "cell_type": "code",
   "execution_count": null,
   "id": "984714c5",
   "metadata": {},
   "outputs": [
    {
     "data": {
      "text/plain": [
       "['../data/P_CCZ_dict.pkl']"
      ]
     },
     "execution_count": 43,
     "metadata": {},
     "output_type": "execute_result"
    }
   ],
   "source": [
    "joblib.dump(P_CCZ_dict, '../data/P_CCZ_dict.pkl')"
   ]
  }
 ],
 "metadata": {
  "kernelspec": {
   "display_name": "SageMath 10.5",
   "language": "sage",
   "name": "SageMath-10.5"
  },
  "language_info": {
   "codemirror_mode": {
    "name": "ipython",
    "version": 3
   },
   "file_extension": ".py",
   "mimetype": "text/x-python",
   "name": "python",
   "nbconvert_exporter": "python",
   "pygments_lexer": "ipython3",
   "version": "3.12.5"
  }
 },
 "nbformat": 4,
 "nbformat_minor": 5
}
